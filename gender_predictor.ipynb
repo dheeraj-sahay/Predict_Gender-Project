{
 "cells": [
  {
   "cell_type": "markdown",
   "id": "489ac3c1-3534-439c-bca7-b5a712b94b31",
   "metadata": {},
   "source": [
    "# 1. Getting Data"
   ]
  },
  {
   "cell_type": "markdown",
   "id": "86e5a112-e748-45e7-9bbb-81d405cfbc5e",
   "metadata": {},
   "source": [
    "## 1.1 Setting up and Importing library"
   ]
  },
  {
   "cell_type": "code",
   "execution_count": 1,
   "id": "9fec1437-4e05-4867-bb01-70abe12855e0",
   "metadata": {},
   "outputs": [],
   "source": [
    "import pandas as pd\n",
    "import numpy as np\n",
    "import matplotlib.pyplot as plt"
   ]
  },
  {
   "cell_type": "markdown",
   "id": "6ac29d02-e372-4d6f-95d7-ffb13d902c1c",
   "metadata": {},
   "source": [
    "## 1.2 Getting data into dataframe"
   ]
  },
  {
   "cell_type": "code",
   "execution_count": 2,
   "id": "d0b3ea62-b91e-478f-91f2-0d2717e27b03",
   "metadata": {},
   "outputs": [
    {
     "data": {
      "text/html": [
       "<div>\n",
       "<style scoped>\n",
       "    .dataframe tbody tr th:only-of-type {\n",
       "        vertical-align: middle;\n",
       "    }\n",
       "\n",
       "    .dataframe tbody tr th {\n",
       "        vertical-align: top;\n",
       "    }\n",
       "\n",
       "    .dataframe thead th {\n",
       "        text-align: right;\n",
       "    }\n",
       "</style>\n",
       "<table border=\"1\" class=\"dataframe\">\n",
       "  <thead>\n",
       "    <tr style=\"text-align: right;\">\n",
       "      <th></th>\n",
       "      <th>meanfreq</th>\n",
       "      <th>sd</th>\n",
       "      <th>median</th>\n",
       "      <th>Q25</th>\n",
       "      <th>Q75</th>\n",
       "      <th>IQR</th>\n",
       "      <th>skew</th>\n",
       "      <th>kurt</th>\n",
       "      <th>sp.ent</th>\n",
       "      <th>sfm</th>\n",
       "      <th>...</th>\n",
       "      <th>centroid</th>\n",
       "      <th>meanfun</th>\n",
       "      <th>minfun</th>\n",
       "      <th>maxfun</th>\n",
       "      <th>meandom</th>\n",
       "      <th>mindom</th>\n",
       "      <th>maxdom</th>\n",
       "      <th>dfrange</th>\n",
       "      <th>modindx</th>\n",
       "      <th>label</th>\n",
       "    </tr>\n",
       "  </thead>\n",
       "  <tbody>\n",
       "    <tr>\n",
       "      <th>0</th>\n",
       "      <td>0.059781</td>\n",
       "      <td>0.064241</td>\n",
       "      <td>0.032027</td>\n",
       "      <td>0.015071</td>\n",
       "      <td>0.090193</td>\n",
       "      <td>0.075122</td>\n",
       "      <td>12.863462</td>\n",
       "      <td>274.402906</td>\n",
       "      <td>0.893369</td>\n",
       "      <td>0.491918</td>\n",
       "      <td>...</td>\n",
       "      <td>0.059781</td>\n",
       "      <td>0.084279</td>\n",
       "      <td>0.015702</td>\n",
       "      <td>0.275862</td>\n",
       "      <td>0.007812</td>\n",
       "      <td>0.007812</td>\n",
       "      <td>0.007812</td>\n",
       "      <td>0.000000</td>\n",
       "      <td>0.000000</td>\n",
       "      <td>male</td>\n",
       "    </tr>\n",
       "    <tr>\n",
       "      <th>1</th>\n",
       "      <td>0.066009</td>\n",
       "      <td>0.067310</td>\n",
       "      <td>0.040229</td>\n",
       "      <td>0.019414</td>\n",
       "      <td>0.092666</td>\n",
       "      <td>0.073252</td>\n",
       "      <td>22.423285</td>\n",
       "      <td>634.613855</td>\n",
       "      <td>0.892193</td>\n",
       "      <td>0.513724</td>\n",
       "      <td>...</td>\n",
       "      <td>0.066009</td>\n",
       "      <td>0.107937</td>\n",
       "      <td>0.015826</td>\n",
       "      <td>0.250000</td>\n",
       "      <td>0.009014</td>\n",
       "      <td>0.007812</td>\n",
       "      <td>0.054688</td>\n",
       "      <td>0.046875</td>\n",
       "      <td>0.052632</td>\n",
       "      <td>male</td>\n",
       "    </tr>\n",
       "    <tr>\n",
       "      <th>2</th>\n",
       "      <td>0.077316</td>\n",
       "      <td>0.083829</td>\n",
       "      <td>0.036718</td>\n",
       "      <td>0.008701</td>\n",
       "      <td>0.131908</td>\n",
       "      <td>0.123207</td>\n",
       "      <td>30.757155</td>\n",
       "      <td>1024.927705</td>\n",
       "      <td>0.846389</td>\n",
       "      <td>0.478905</td>\n",
       "      <td>...</td>\n",
       "      <td>0.077316</td>\n",
       "      <td>0.098706</td>\n",
       "      <td>0.015656</td>\n",
       "      <td>0.271186</td>\n",
       "      <td>0.007990</td>\n",
       "      <td>0.007812</td>\n",
       "      <td>0.015625</td>\n",
       "      <td>0.007812</td>\n",
       "      <td>0.046512</td>\n",
       "      <td>male</td>\n",
       "    </tr>\n",
       "    <tr>\n",
       "      <th>3</th>\n",
       "      <td>0.151228</td>\n",
       "      <td>0.072111</td>\n",
       "      <td>0.158011</td>\n",
       "      <td>0.096582</td>\n",
       "      <td>0.207955</td>\n",
       "      <td>0.111374</td>\n",
       "      <td>1.232831</td>\n",
       "      <td>4.177296</td>\n",
       "      <td>0.963322</td>\n",
       "      <td>0.727232</td>\n",
       "      <td>...</td>\n",
       "      <td>0.151228</td>\n",
       "      <td>0.088965</td>\n",
       "      <td>0.017798</td>\n",
       "      <td>0.250000</td>\n",
       "      <td>0.201497</td>\n",
       "      <td>0.007812</td>\n",
       "      <td>0.562500</td>\n",
       "      <td>0.554688</td>\n",
       "      <td>0.247119</td>\n",
       "      <td>male</td>\n",
       "    </tr>\n",
       "    <tr>\n",
       "      <th>4</th>\n",
       "      <td>0.135120</td>\n",
       "      <td>0.079146</td>\n",
       "      <td>0.124656</td>\n",
       "      <td>0.078720</td>\n",
       "      <td>0.206045</td>\n",
       "      <td>0.127325</td>\n",
       "      <td>1.101174</td>\n",
       "      <td>4.333713</td>\n",
       "      <td>0.971955</td>\n",
       "      <td>0.783568</td>\n",
       "      <td>...</td>\n",
       "      <td>0.135120</td>\n",
       "      <td>0.106398</td>\n",
       "      <td>0.016931</td>\n",
       "      <td>0.266667</td>\n",
       "      <td>0.712812</td>\n",
       "      <td>0.007812</td>\n",
       "      <td>5.484375</td>\n",
       "      <td>5.476562</td>\n",
       "      <td>0.208274</td>\n",
       "      <td>male</td>\n",
       "    </tr>\n",
       "  </tbody>\n",
       "</table>\n",
       "<p>5 rows × 21 columns</p>\n",
       "</div>"
      ],
      "text/plain": [
       "   meanfreq        sd    median       Q25       Q75       IQR       skew  \\\n",
       "0  0.059781  0.064241  0.032027  0.015071  0.090193  0.075122  12.863462   \n",
       "1  0.066009  0.067310  0.040229  0.019414  0.092666  0.073252  22.423285   \n",
       "2  0.077316  0.083829  0.036718  0.008701  0.131908  0.123207  30.757155   \n",
       "3  0.151228  0.072111  0.158011  0.096582  0.207955  0.111374   1.232831   \n",
       "4  0.135120  0.079146  0.124656  0.078720  0.206045  0.127325   1.101174   \n",
       "\n",
       "          kurt    sp.ent       sfm  ...  centroid   meanfun    minfun  \\\n",
       "0   274.402906  0.893369  0.491918  ...  0.059781  0.084279  0.015702   \n",
       "1   634.613855  0.892193  0.513724  ...  0.066009  0.107937  0.015826   \n",
       "2  1024.927705  0.846389  0.478905  ...  0.077316  0.098706  0.015656   \n",
       "3     4.177296  0.963322  0.727232  ...  0.151228  0.088965  0.017798   \n",
       "4     4.333713  0.971955  0.783568  ...  0.135120  0.106398  0.016931   \n",
       "\n",
       "     maxfun   meandom    mindom    maxdom   dfrange   modindx  label  \n",
       "0  0.275862  0.007812  0.007812  0.007812  0.000000  0.000000   male  \n",
       "1  0.250000  0.009014  0.007812  0.054688  0.046875  0.052632   male  \n",
       "2  0.271186  0.007990  0.007812  0.015625  0.007812  0.046512   male  \n",
       "3  0.250000  0.201497  0.007812  0.562500  0.554688  0.247119   male  \n",
       "4  0.266667  0.712812  0.007812  5.484375  5.476562  0.208274   male  \n",
       "\n",
       "[5 rows x 21 columns]"
      ]
     },
     "execution_count": 2,
     "metadata": {},
     "output_type": "execute_result"
    }
   ],
   "source": [
    "df = pd.read_csv('./Dataset/voice.csv')\n",
    "df.head()"
   ]
  },
  {
   "cell_type": "markdown",
   "id": "6d71a44a-cd9f-400e-ba9f-7fdecf308411",
   "metadata": {},
   "source": [
    "## 1.3 Checking for null values"
   ]
  },
  {
   "cell_type": "code",
   "execution_count": 3,
   "id": "d7f3e554-a1d8-42cc-a56f-c729ba7d2e91",
   "metadata": {},
   "outputs": [
    {
     "data": {
      "text/plain": [
       "Series([], dtype: int64)"
      ]
     },
     "execution_count": 3,
     "metadata": {},
     "output_type": "execute_result"
    }
   ],
   "source": [
    "null_col = df.isnull().sum()\n",
    "null_col[null_col>0]"
   ]
  },
  {
   "cell_type": "markdown",
   "id": "9fc2f9fc-ddf9-4877-b75b-21eb3c66b522",
   "metadata": {},
   "source": [
    "##### found no null value."
   ]
  },
  {
   "cell_type": "markdown",
   "id": "62fe2d9f-a6e7-4783-ab24-9ddafad2da9c",
   "metadata": {},
   "source": [
    "## 1.4 Depicting percentage distribution of label on a pie chart"
   ]
  },
  {
   "cell_type": "code",
   "execution_count": 4,
   "id": "dd1265b5-d18a-444a-bd14-fc4f7b08a6fb",
   "metadata": {},
   "outputs": [
    {
     "data": {
      "text/plain": [
       "(2,)"
      ]
     },
     "execution_count": 4,
     "metadata": {},
     "output_type": "execute_result"
    }
   ],
   "source": [
    "label_val = df['label'].value_counts()\n",
    "label_val.shape"
   ]
  },
  {
   "cell_type": "code",
   "execution_count": 5,
   "id": "8d8976e9-bc06-41cb-8907-c5480f3de122",
   "metadata": {},
   "outputs": [
    {
     "data": {
      "text/plain": [
       "array(['male', 'female'], dtype=object)"
      ]
     },
     "execution_count": 5,
     "metadata": {},
     "output_type": "execute_result"
    }
   ],
   "source": [
    "label = df['label'].unique()\n",
    "label"
   ]
  },
  {
   "cell_type": "code",
   "execution_count": 47,
   "id": "ad8855f8-9e36-4b96-83de-055360eb9faa",
   "metadata": {},
   "outputs": [
    {
     "data": {
      "image/png": "[encoded data removed]",
      "text/plain": [
       "<Figure size 864x1152 with 1 Axes>"
      ]
     },
     "metadata": {},
     "output_type": "display_data"
    }
   ],
   "source": [
    "def func(pct, data):\n",
    "    return \"{:.1f}%\".format(pct)\n",
    "\n",
    "fig, ax = plt.subplots(figsize = (12, 16))\n",
    "\n",
    "wedges, texts, autotexts = ax.pie(label_val, labels = label, startangle=360, autopct = lambda pct: func(pct, label_val))\n",
    "# Adding legend\n",
    "ax.legend(wedges, label,\n",
    "          title=\"Gender\",\n",
    "          loc=\"center right\")\n",
    "\n",
    "plt.setp(autotexts, size= 17, weight=\"bold\")\n",
    "ax.set_title(\"Percentage Distribution of Label\")\n",
    "\n",
    "# show plot\n",
    "plt.show()"
   ]
  },
  {
   "cell_type": "markdown",
   "id": "4c6e3fb5-5408-4582-969a-c6adf48ea5b5",
   "metadata": {},
   "source": [
    "#### This shows that dataset consist of 50% male and 50% female voice samples"
   ]
  },
  {
   "cell_type": "markdown",
   "id": "0b110c04-d4cd-43e6-a952-18a000023d50",
   "metadata": {},
   "source": [
    "## 1.5 Spliting data into training and testing dataset"
   ]
  },
  {
   "cell_type": "markdown",
   "id": "8b40da84-b6c6-4ff8-a7a4-47d44fe9fa52",
   "metadata": {},
   "source": [
    "### 1.5.1 Before spliting data conveting categorical data into numerical encoding\n",
    "here I am using Label encoding to tranform Label col from string to numerical value"
   ]
  },
  {
   "cell_type": "code",
   "execution_count": 7,
   "id": "7778ac25-d24b-4ce1-8b3b-c2cb1138d513",
   "metadata": {},
   "outputs": [],
   "source": [
    "# importing labelEncoder from sklearn\n",
    "from sklearn.preprocessing import LabelEncoder"
   ]
  },
  {
   "cell_type": "code",
   "execution_count": 8,
   "id": "0d10ed67-ac7e-435d-a2dc-98728874638b",
   "metadata": {},
   "outputs": [
    {
     "name": "stdout",
     "output_type": "stream",
     "text": [
      "Index(['label'], dtype='object')\n"
     ]
    }
   ],
   "source": [
    "# checking categorical data\n",
    "cat_col = df.dtypes[df.dtypes=='object'].index\n",
    "print(cat_col) # we only have one categorical datatype column"
   ]
  },
  {
   "cell_type": "code",
   "execution_count": 9,
   "id": "ade23cba-2521-431f-94af-44433a10d743",
   "metadata": {},
   "outputs": [
    {
     "name": "stdout",
     "output_type": "stream",
     "text": [
      "0       1\n",
      "1       1\n",
      "2       1\n",
      "3       1\n",
      "4       1\n",
      "       ..\n",
      "3163    0\n",
      "3164    0\n",
      "3165    0\n",
      "3166    0\n",
      "3167    0\n",
      "Name: label, Length: 3168, dtype: int32\n"
     ]
    }
   ],
   "source": [
    "# Conveting categorical data into numerical encoding\n",
    "lb = LabelEncoder()\n",
    "df['label'] = lb.fit_transform(df['label'])\n",
    "print(df['label']) # we get 1 for male and 0 for female"
   ]
  },
  {
   "cell_type": "code",
   "execution_count": 10,
   "id": "bf6d6945-c9e5-40ee-99ae-9758ee309c11",
   "metadata": {},
   "outputs": [
    {
     "data": {
      "text/plain": [
       "meanfreq    float64\n",
       "sd          float64\n",
       "median      float64\n",
       "Q25         float64\n",
       "Q75         float64\n",
       "IQR         float64\n",
       "skew        float64\n",
       "kurt        float64\n",
       "sp.ent      float64\n",
       "sfm         float64\n",
       "mode        float64\n",
       "centroid    float64\n",
       "meanfun     float64\n",
       "minfun      float64\n",
       "maxfun      float64\n",
       "meandom     float64\n",
       "mindom      float64\n",
       "maxdom      float64\n",
       "dfrange     float64\n",
       "modindx     float64\n",
       "label         int32\n",
       "dtype: object"
      ]
     },
     "execution_count": 10,
     "metadata": {},
     "output_type": "execute_result"
    }
   ],
   "source": [
    "# checking df types\n",
    "df.dtypes # we only have numerical datatype"
   ]
  },
  {
   "cell_type": "markdown",
   "id": "28cb57b7-823e-400c-b7f3-903ef78b0136",
   "metadata": {},
   "source": [
    "### 1.5.2 Spliting data in x and y"
   ]
  },
  {
   "cell_type": "code",
   "execution_count": 11,
   "id": "cb108076-a23e-4b06-af9a-ad8fc4c9d65a",
   "metadata": {},
   "outputs": [
    {
     "name": "stdout",
     "output_type": "stream",
     "text": [
      "(3168, 20)\n",
      "(3168,)\n",
      "<class 'pandas.core.frame.DataFrame'>\n",
      "<class 'pandas.core.series.Series'>\n"
     ]
    }
   ],
   "source": [
    "# spliting df into independent feature ( x ) and dependent feature ( y )\n",
    "x = df.drop('label', axis=1)\n",
    "y = df['label']\n",
    "print(x.shape)\n",
    "print(y.shape)\n",
    "print(type(x))\n",
    "print(type(y))"
   ]
  },
  {
   "cell_type": "markdown",
   "id": "27459750-68c8-47d6-bc97-fdb5ccbb1679",
   "metadata": {},
   "source": [
    "### 1.5.3 Spliting data in training and testing"
   ]
  },
  {
   "cell_type": "markdown",
   "id": "9d961372-a3cf-45e1-b401-724214df4602",
   "metadata": {},
   "source": [
    "#### Importing train_test_split to split data into training and testing"
   ]
  },
  {
   "cell_type": "code",
   "execution_count": 12,
   "id": "616dead7-82c6-4a2b-ab50-c98f9989a28f",
   "metadata": {},
   "outputs": [],
   "source": [
    "from sklearn.model_selection import train_test_split"
   ]
  },
  {
   "cell_type": "code",
   "execution_count": 13,
   "id": "7308d608-f211-410c-b83d-a0913c41fc38",
   "metadata": {},
   "outputs": [
    {
     "name": "stdout",
     "output_type": "stream",
     "text": [
      "(2534, 20)\n",
      "(634, 20)\n",
      "(2534,)\n",
      "(634,)\n"
     ]
    }
   ],
   "source": [
    "x_train, x_test, y_train, y_test = train_test_split(x, y, test_size=0.2) # taking test size as 20%\n",
    "print(x_train.shape)\n",
    "print(x_test.shape)\n",
    "print(y_train.shape)\n",
    "print(y_test.shape)"
   ]
  },
  {
   "cell_type": "markdown",
   "id": "7c9a6240-9a17-44c5-983c-d0bf05635973",
   "metadata": {},
   "source": [
    "## 2. Creating Models"
   ]
  },
  {
   "cell_type": "markdown",
   "id": "42225276-77e0-4a34-97f1-45bf54ba4826",
   "metadata": {},
   "source": [
    "### Creating evaluation function"
   ]
  },
  {
   "cell_type": "markdown",
   "id": "734c8440-49c5-4da7-9360-e12210b4a953",
   "metadata": {},
   "source": [
    "#### Importing for evaluation our ML score"
   ]
  },
  {
   "cell_type": "code",
   "execution_count": 14,
   "id": "4f5c7b71-d329-42e9-b8fb-d8647cedbf38",
   "metadata": {},
   "outputs": [],
   "source": [
    "from sklearn.metrics import classification_report, confusion_matrix, accuracy_score\n",
    "\n",
    "# for hyperperemetertuning\n",
    "from sklearn.model_selection import GridSearchCV, RandomizedSearchCV"
   ]
  },
  {
   "cell_type": "code",
   "execution_count": 15,
   "id": "a5046ce5-71be-4ca4-9c51-25cce5d04edb",
   "metadata": {},
   "outputs": [],
   "source": [
    "# Creating function for model score\n",
    "import seaborn as sns\n",
    "def modelScore(model):\n",
    "    print('Training Score', model.score(x_train, y_train))\n",
    "    print('Testing Score', model.score(x_test, y_test))\n",
    "\n",
    "def confusion_matrix_c(y_test,y_pred):\n",
    "    cm = confusion_matrix(y_test, y_pred)\n",
    "    class_label = [\"Female\", \"Male\"]\n",
    "    df_cm = pd.DataFrame(cm, index=class_label,columns=class_label)\n",
    "    sns.heatmap(df_cm, annot=True, fmt='d')\n",
    "    plt.title(\"Confusion Matrix\")\n",
    "    plt.xlabel(\"Predicted Label\")\n",
    "    plt.ylabel(\"True Label\")\n",
    "    plt.show()\n",
    "\n",
    "def eval_metric(true_v, pred_v):\n",
    "    print(\"\\t Confusion Matrix: \\n\")\n",
    "    confusion_matrix_c(true_v, pred_v)\n",
    "    print(\"\\n\\tClassification Report: \\n\", classification_report(true_v, pred_v))\n",
    "    print(\"\\n\\tAccuracy Score: \", accuracy_score(true_v, pred_v))\n",
    "    \n"
   ]
  },
  {
   "cell_type": "markdown",
   "id": "0228d1f4-7baa-494a-9ada-41e8cd4292b1",
   "metadata": {},
   "source": [
    "## 2.1         Decision Tree Classifier"
   ]
  },
  {
   "cell_type": "code",
   "execution_count": 16,
   "id": "834e1e1a-5d0d-4309-9e99-330422a12727",
   "metadata": {},
   "outputs": [
    {
     "data": {
      "text/plain": [
       "DecisionTreeClassifier(max_depth=10, min_samples_split=12, random_state=42)"
      ]
     },
     "execution_count": 16,
     "metadata": {},
     "output_type": "execute_result"
    }
   ],
   "source": [
    "# Importing DT classifier\n",
    "from sklearn.tree import DecisionTreeClassifier\n",
    "DT_model = DecisionTreeClassifier(criterion=\"gini\", max_depth=10, min_samples_split=12, random_state=42)\n",
    "DT_model.fit(x_train, y_train)"
   ]
  },
  {
   "cell_type": "code",
   "execution_count": 17,
   "id": "165ba817-dc0e-4839-aa42-9637ffec81cd",
   "metadata": {},
   "outputs": [
    {
     "name": "stdout",
     "output_type": "stream",
     "text": [
      "Training Score 0.9932912391475928\n",
      "Testing Score 0.9574132492113565\n"
     ]
    }
   ],
   "source": [
    "modelScore(DT_model)"
   ]
  },
  {
   "cell_type": "code",
   "execution_count": 18,
   "id": "0d8469de-b98c-4acc-bb8d-8501381178b7",
   "metadata": {},
   "outputs": [],
   "source": [
    "y_pred_dt = DT_model.predict(x_test)"
   ]
  },
  {
   "cell_type": "code",
   "execution_count": 19,
   "id": "e44dd295-20c3-47f3-9a0a-473ab86c5ca3",
   "metadata": {},
   "outputs": [
    {
     "name": "stdout",
     "output_type": "stream",
     "text": [
      "\t Confusion Matrix: \n",
      "\n"
     ]
    },
    {
     "data": {
      "image/png": "[encoded data removed]",
      "text/plain": [
       "<Figure size 432x288 with 2 Axes>"
      ]
     },
     "metadata": {
      "needs_background": "light"
     },
     "output_type": "display_data"
    },
    {
     "name": "stdout",
     "output_type": "stream",
     "text": [
      "\n",
      "\tClassification Report: \n",
      "               precision    recall  f1-score   support\n",
      "\n",
      "           0       0.97      0.95      0.96       333\n",
      "           1       0.94      0.97      0.96       301\n",
      "\n",
      "    accuracy                           0.96       634\n",
      "   macro avg       0.96      0.96      0.96       634\n",
      "weighted avg       0.96      0.96      0.96       634\n",
      "\n",
      "\n",
      "\tAccuracy Score:  0.9574132492113565\n"
     ]
    }
   ],
   "source": [
    "# confusion_matrix_c(y_test, y_pred_dt)\n",
    "# print(classification_report(y_test, y_pred_dt))\n",
    "eval_metric(y_test,y_pred_dt)"
   ]
  },
  {
   "cell_type": "markdown",
   "id": "a5faec3d-587b-49a2-8743-166d7cb8c824",
   "metadata": {},
   "source": [
    "#### using RandomizedSearchCV"
   ]
  },
  {
   "cell_type": "code",
   "execution_count": 20,
   "id": "c3fd0e68-74aa-4de2-863c-7e6f8aa2944d",
   "metadata": {},
   "outputs": [
    {
     "name": "stdout",
     "output_type": "stream",
     "text": [
      "Tuned Decision Tree Parameters: {'min_samples_split': 12, 'max_features': 13, 'max_depth': 9, 'criterion': 'entropy'}\n",
      "Best Score is 0.9664626841832049\n"
     ]
    }
   ],
   "source": [
    "## RandomizedSearchCV\n",
    "#Creating hyperperameter grid\n",
    "para_grid = {\"max_depth\":range(1,17,2),\n",
    "             'max_features':range(1, 15, 2),\n",
    "             'min_samples_split':range(0, 20, 2),\n",
    "             'criterion': ['gini', 'entropy']}\n",
    "\n",
    "# Instantiating Decision Tree classifier\n",
    "tree = DecisionTreeClassifier(random_state=42)\n",
    "\n",
    "# Instantiating RandomizedSearchCV object\n",
    "DTcv_model = RandomizedSearchCV(tree, para_grid, cv=8, scoring='accuracy')\n",
    "\n",
    "DTcv_model.fit(x_train, y_train)\n",
    "\n",
    "# Printing the tuned parameter and best score\n",
    "print(\"Tuned Decision Tree Parameters: {}\".format(DTcv_model.best_params_))\n",
    "print(\"Best Score is {}\".format(DTcv_model.best_score_))"
   ]
  },
  {
   "cell_type": "code",
   "execution_count": 21,
   "id": "f423bfbd-c762-4e2c-b539-77b0d32762e7",
   "metadata": {},
   "outputs": [],
   "source": [
    "y_pred_tunedDT = DTcv_model.predict(x_test)"
   ]
  },
  {
   "cell_type": "code",
   "execution_count": 22,
   "id": "bc5dcfc0-5767-4d1f-b899-bcc11ffa7128",
   "metadata": {},
   "outputs": [
    {
     "name": "stdout",
     "output_type": "stream",
     "text": [
      "Training Score 0.9913180741910024\n",
      "Testing Score 0.9605678233438486\n"
     ]
    },
    {
     "data": {
      "image/png": "[encoded data removed]",
      "text/plain": [
       "<Figure size 432x288 with 2 Axes>"
      ]
     },
     "metadata": {
      "needs_background": "light"
     },
     "output_type": "display_data"
    },
    {
     "name": "stdout",
     "output_type": "stream",
     "text": [
      "              precision    recall  f1-score   support\n",
      "\n",
      "           0       0.97      0.95      0.96       333\n",
      "           1       0.95      0.97      0.96       301\n",
      "\n",
      "    accuracy                           0.96       634\n",
      "   macro avg       0.96      0.96      0.96       634\n",
      "weighted avg       0.96      0.96      0.96       634\n",
      "\n",
      "0.9605678233438486\n"
     ]
    }
   ],
   "source": [
    "modelScore(DTcv_model)\n",
    "confusion_matrix_c(y_test, y_pred_tunedDT)\n",
    "print(classification_report(y_test, y_pred_tunedDT))\n",
    "print(accuracy_score(y_test, y_pred_tunedDT))"
   ]
  },
  {
   "cell_type": "markdown",
   "id": "2a65e4b2-9397-4830-be3a-50f02fefe987",
   "metadata": {},
   "source": [
    "###### ON THE ABOVE MODEL DTcv_model getting an accurecy of 96%"
   ]
  },
  {
   "cell_type": "markdown",
   "id": "8b8f1125-40c4-44a6-8071-bb0f2576c4cc",
   "metadata": {},
   "source": [
    "## 2.2 Random forest Classifier"
   ]
  },
  {
   "cell_type": "code",
   "execution_count": 23,
   "id": "f27e4444-f550-4615-bea1-b803fc2967f7",
   "metadata": {},
   "outputs": [
    {
     "data": {
      "text/plain": [
       "RandomForestClassifier(n_estimators=5)"
      ]
     },
     "execution_count": 23,
     "metadata": {},
     "output_type": "execute_result"
    }
   ],
   "source": [
    "## imports\n",
    "from sklearn.ensemble import RandomForestClassifier\n",
    "\n",
    "RF_model = RandomForestClassifier(n_estimators=5, criterion='gini', \n",
    "                                  min_samples_split=2,\n",
    "                                  max_features='auto')\n",
    "\n",
    "RF_model.fit(x_train, y_train)"
   ]
  },
  {
   "cell_type": "code",
   "execution_count": 24,
   "id": "f61613a8-5312-41ec-9315-9129b4ee1110",
   "metadata": {},
   "outputs": [
    {
     "name": "stdout",
     "output_type": "stream",
     "text": [
      "Training Score 0.9964483030781374\n",
      "Testing Score 0.9779179810725552\n"
     ]
    }
   ],
   "source": [
    "modelScore(RF_model)"
   ]
  },
  {
   "cell_type": "code",
   "execution_count": 25,
   "id": "0f81a627-1ebc-42c5-b5c4-0d2f73c057be",
   "metadata": {},
   "outputs": [
    {
     "name": "stdout",
     "output_type": "stream",
     "text": [
      "\t Confusion Matrix: \n",
      "\n"
     ]
    },
    {
     "data": {
      "image/png": "[encoded data removed]",
      "text/plain": [
       "<Figure size 432x288 with 2 Axes>"
      ]
     },
     "metadata": {
      "needs_background": "light"
     },
     "output_type": "display_data"
    },
    {
     "name": "stdout",
     "output_type": "stream",
     "text": [
      "\n",
      "\tClassification Report: \n",
      "               precision    recall  f1-score   support\n",
      "\n",
      "           0       0.98      0.97      0.98       333\n",
      "           1       0.97      0.98      0.98       301\n",
      "\n",
      "    accuracy                           0.98       634\n",
      "   macro avg       0.98      0.98      0.98       634\n",
      "weighted avg       0.98      0.98      0.98       634\n",
      "\n",
      "\n",
      "\tAccuracy Score:  0.9779179810725552\n"
     ]
    }
   ],
   "source": [
    "y_pred_RF = RF_model.predict(x_test)\n",
    "eval_metric(y_test,y_pred_RF)"
   ]
  },
  {
   "cell_type": "code",
   "execution_count": 26,
   "id": "e88c9018-267d-40c1-83cc-0e070d2957ae",
   "metadata": {},
   "outputs": [
    {
     "name": "stdout",
     "output_type": "stream",
     "text": [
      "Tuned Decision Tree Parameters: {'n_estimators': 100, 'min_samples_split': 8, 'criterion': 'gini'}\n",
      "Best Score is 0.977509258971087\n"
     ]
    }
   ],
   "source": [
    "## RandomizedSearchCV\n",
    "#Creating hyperperameter grid\n",
    "para_grid = {'n_estimators': [5, 50, 100, 125, 150],\n",
    "             'min_samples_split':range(2, 20, 3),\n",
    "             'criterion': ['gini', 'entropy']}\n",
    "\n",
    "# Instantiating Random Forest classifier\n",
    "tree = RandomForestClassifier(random_state=42)\n",
    "\n",
    "# Instantiating RandomizedSearchCV object\n",
    "RF_cvmodel = RandomizedSearchCV(tree, para_grid, cv=10, scoring='f1_micro', n_jobs=-1)\n",
    "\n",
    "RF_cvmodel.fit(x_train, y_train)\n",
    "\n",
    "# Printing the tuned parameter and best score\n",
    "print(\"Tuned Decision Tree Parameters: {}\".format(RF_cvmodel.best_params_))\n",
    "print(\"Best Score is {}\".format(RF_cvmodel.best_score_))"
   ]
  },
  {
   "cell_type": "code",
   "execution_count": 27,
   "id": "b8ca6a86-7638-4b91-b942-31ec753248a7",
   "metadata": {},
   "outputs": [
    {
     "data": {
      "text/plain": [
       "RandomForestClassifier(criterion='entropy', min_samples_split=5,\n",
       "                       random_state=42)"
      ]
     },
     "execution_count": 27,
     "metadata": {},
     "output_type": "execute_result"
    }
   ],
   "source": [
    "RF_best_model = RandomForestClassifier(n_estimators= 100, min_samples_split=5, criterion='entropy', random_state=42)\n",
    "RF_best_model.fit(x_train, y_train)"
   ]
  },
  {
   "cell_type": "code",
   "execution_count": 28,
   "id": "dd374059-d9a2-44f4-8081-947ea69f607c",
   "metadata": {},
   "outputs": [
    {
     "name": "stdout",
     "output_type": "stream",
     "text": [
      "Training Score 0.999605367008682\n",
      "Testing Score 0.9794952681388013\n"
     ]
    }
   ],
   "source": [
    "modelScore(RF_best_model)"
   ]
  },
  {
   "cell_type": "code",
   "execution_count": 29,
   "id": "951e6e09-1653-4add-ab7f-992fb153e1af",
   "metadata": {},
   "outputs": [
    {
     "name": "stdout",
     "output_type": "stream",
     "text": [
      "\t Confusion Matrix: \n",
      "\n"
     ]
    },
    {
     "data": {
      "image/png": "[encoded data removed]",
      "text/plain": [
       "<Figure size 432x288 with 2 Axes>"
      ]
     },
     "metadata": {
      "needs_background": "light"
     },
     "output_type": "display_data"
    },
    {
     "name": "stdout",
     "output_type": "stream",
     "text": [
      "\n",
      "\tClassification Report: \n",
      "               precision    recall  f1-score   support\n",
      "\n",
      "           0       0.98      0.98      0.98       333\n",
      "           1       0.97      0.98      0.98       301\n",
      "\n",
      "    accuracy                           0.98       634\n",
      "   macro avg       0.98      0.98      0.98       634\n",
      "weighted avg       0.98      0.98      0.98       634\n",
      "\n",
      "\n",
      "\tAccuracy Score:  0.9794952681388013\n"
     ]
    }
   ],
   "source": [
    "y_pred_RF_best_model = RF_best_model.predict(x_test)\n",
    "eval_metric(y_test,y_pred_RF_best_model)"
   ]
  },
  {
   "cell_type": "markdown",
   "id": "60d5a7cd-1cea-4948-ae1f-0d992f907a40",
   "metadata": {},
   "source": [
    "#### Getting same for accuacy score for both Random Forest Model with accuracy at 97.9%"
   ]
  },
  {
   "cell_type": "markdown",
   "id": "2e5181ff-3dd7-477b-8755-ba39d571c147",
   "metadata": {},
   "source": [
    "## 2.3 KNN Classifier"
   ]
  },
  {
   "cell_type": "code",
   "execution_count": 30,
   "id": "2111f192-73dc-4a4d-952a-704590b4e85b",
   "metadata": {},
   "outputs": [],
   "source": [
    "# Importing KNN classifier\n",
    "from sklearn.neighbors import KNeighborsClassifier"
   ]
  },
  {
   "cell_type": "code",
   "execution_count": 31,
   "id": "e56a212d-e23d-4726-9bf2-004de3836d80",
   "metadata": {},
   "outputs": [
    {
     "data": {
      "text/plain": [
       "KNeighborsClassifier(n_neighbors=1)"
      ]
     },
     "execution_count": 31,
     "metadata": {},
     "output_type": "execute_result"
    }
   ],
   "source": [
    "model_knn = KNeighborsClassifier(n_neighbors=1)\n",
    "model_knn.fit(x_train, y_train)"
   ]
  },
  {
   "cell_type": "code",
   "execution_count": 32,
   "id": "3142dbc7-49ad-4b0e-a424-209926eda0c0",
   "metadata": {},
   "outputs": [
    {
     "name": "stdout",
     "output_type": "stream",
     "text": [
      "\t Confusion Matrix: \n",
      "\n"
     ]
    },
    {
     "data": {
      "image/png": "[encoded data removed]",
      "text/plain": [
       "<Figure size 432x288 with 2 Axes>"
      ]
     },
     "metadata": {
      "needs_background": "light"
     },
     "output_type": "display_data"
    },
    {
     "name": "stdout",
     "output_type": "stream",
     "text": [
      "\n",
      "\tClassification Report: \n",
      "               precision    recall  f1-score   support\n",
      "\n",
      "           0       0.73      0.72      0.73       333\n",
      "           1       0.70      0.71      0.71       301\n",
      "\n",
      "    accuracy                           0.72       634\n",
      "   macro avg       0.72      0.72      0.72       634\n",
      "weighted avg       0.72      0.72      0.72       634\n",
      "\n",
      "\n",
      "\tAccuracy Score:  0.7176656151419558\n"
     ]
    }
   ],
   "source": [
    "Y_pred_knn = model_knn.predict(x_test)\n",
    "eval_metric(y_test, Y_pred_knn)"
   ]
  },
  {
   "cell_type": "markdown",
   "id": "a28823dd-f0fe-45b1-bb4e-11d12bd59ecc",
   "metadata": {},
   "source": [
    "#### Getting 71% accuracy score in the KNN classifier"
   ]
  },
  {
   "cell_type": "markdown",
   "id": "1e4b301c-78d4-4ffb-8981-c91516e5115e",
   "metadata": {},
   "source": [
    "## 2.4  Logistic Regression"
   ]
  },
  {
   "cell_type": "code",
   "execution_count": 41,
   "id": "816ed0f7-903b-45ef-9592-ba89f230d9e1",
   "metadata": {},
   "outputs": [
    {
     "data": {
      "text/plain": [
       "LogisticRegression(C=3.65, penalty='l1', random_state=42, solver='liblinear')"
      ]
     },
     "execution_count": 41,
     "metadata": {},
     "output_type": "execute_result"
    }
   ],
   "source": [
    "## Imports\n",
    "from sklearn.linear_model import LogisticRegression\n",
    "model_LR = LogisticRegression(C=3.65,penalty='l1',random_state=42, solver='liblinear')\n",
    "model_LR.fit(x_train, y_train)"
   ]
  },
  {
   "cell_type": "code",
   "execution_count": 42,
   "id": "62ef8731-d700-4ce7-923c-e1545d8f468a",
   "metadata": {},
   "outputs": [
    {
     "name": "stdout",
     "output_type": "stream",
     "text": [
      "\t Confusion Matrix: \n",
      "\n"
     ]
    },
    {
     "data": {
      "image/png": "[encoded data removed]",
      "text/plain": [
       "<Figure size 432x288 with 2 Axes>"
      ]
     },
     "metadata": {
      "needs_background": "light"
     },
     "output_type": "display_data"
    },
    {
     "name": "stdout",
     "output_type": "stream",
     "text": [
      "\n",
      "\tClassification Report: \n",
      "               precision    recall  f1-score   support\n",
      "\n",
      "           0       0.99      0.96      0.98       333\n",
      "           1       0.96      0.99      0.97       301\n",
      "\n",
      "    accuracy                           0.97       634\n",
      "   macro avg       0.97      0.98      0.97       634\n",
      "weighted avg       0.98      0.97      0.97       634\n",
      "\n",
      "\n",
      "\tAccuracy Score:  0.9747634069400631\n"
     ]
    }
   ],
   "source": [
    "y_pred_LR = model_LR.predict(x_test)\n",
    "eval_metric(y_test, y_pred_LR)"
   ]
  },
  {
   "cell_type": "code",
   "execution_count": 43,
   "id": "581b0c1b-e009-4362-ae7c-0e8403d00cbb",
   "metadata": {},
   "outputs": [
    {
     "name": "stdout",
     "output_type": "stream",
     "text": [
      "Training Score 0.9727703235990529\n",
      "Testing Score 0.9747634069400631\n"
     ]
    }
   ],
   "source": [
    "modelScore(model_LR)"
   ]
  },
  {
   "cell_type": "markdown",
   "id": "d4ef9b6a-694f-4cdf-93c4-c29f16747f83",
   "metadata": {},
   "source": [
    "### Getting Accuracy score of 97.4% for Logistic Regression Model"
   ]
  },
  {
   "cell_type": "markdown",
   "id": "508646b8-e483-4c19-a005-d91ce30219fe",
   "metadata": {},
   "source": [
    "## 2.5    SVM Classifier"
   ]
  },
  {
   "cell_type": "code",
   "execution_count": 36,
   "id": "087ba979-c3fd-484b-a439-596b7cedd0f3",
   "metadata": {},
   "outputs": [
    {
     "data": {
      "text/plain": [
       "SVC(C=2, gamma=1, kernel='linear')"
      ]
     },
     "execution_count": 36,
     "metadata": {},
     "output_type": "execute_result"
    }
   ],
   "source": [
    "#imports\n",
    "from sklearn.svm import SVC\n",
    "model_svc = SVC(C = 2, kernel='linear', gamma=1)\n",
    "model_svc.fit(x_train, y_train)"
   ]
  },
  {
   "cell_type": "code",
   "execution_count": 37,
   "id": "73b86b7b-8021-4223-bb72-4f5abdcd1c13",
   "metadata": {},
   "outputs": [
    {
     "name": "stdout",
     "output_type": "stream",
     "text": [
      "\t Confusion Matrix: \n",
      "\n"
     ]
    },
    {
     "data": {
      "image/png": "[encoded data removed]",
      "text/plain": [
       "<Figure size 432x288 with 2 Axes>"
      ]
     },
     "metadata": {
      "needs_background": "light"
     },
     "output_type": "display_data"
    },
    {
     "name": "stdout",
     "output_type": "stream",
     "text": [
      "\n",
      "\tClassification Report: \n",
      "               precision    recall  f1-score   support\n",
      "\n",
      "           0       0.99      0.93      0.96       333\n",
      "           1       0.93      0.99      0.96       301\n",
      "\n",
      "    accuracy                           0.96       634\n",
      "   macro avg       0.96      0.96      0.96       634\n",
      "weighted avg       0.96      0.96      0.96       634\n",
      "\n",
      "\n",
      "\tAccuracy Score:  0.9574132492113565\n"
     ]
    }
   ],
   "source": [
    "y_pred_svcL = model_svc.predict(x_test)\n",
    "eval_metric(y_test, y_pred_svcL)"
   ]
  },
  {
   "cell_type": "code",
   "execution_count": 38,
   "id": "4e159c76-3406-444f-815c-a08d714030b3",
   "metadata": {},
   "outputs": [
    {
     "name": "stdout",
     "output_type": "stream",
     "text": [
      "Training Score 0.9609313338595107\n",
      "Testing Score 0.9574132492113565\n"
     ]
    }
   ],
   "source": [
    "modelScore(model_svc)"
   ]
  },
  {
   "cell_type": "markdown",
   "id": "c0766530-fc4c-48e5-b5a1-4bcc3cf4ea43",
   "metadata": {},
   "source": [
    "#### SVM giving a mode with accuracy of 96%"
   ]
  },
  {
   "cell_type": "markdown",
   "id": "2e647be1-f6d6-40c3-b721-885946b941fa",
   "metadata": {},
   "source": [
    "## 3. Model With Best Accuracy"
   ]
  },
  {
   "cell_type": "markdown",
   "id": "cf6bfefb-2904-4eda-a364-ec8fa880774c",
   "metadata": {},
   "source": [
    "### RF_best_model provided the best Accuracy using Random forest Classifier and RandomizedSearchCV to get an accuracy of 97% with following parameters\n",
    "RandomForestClassifier(n_estimators= 100, min_samples_split=5, criterion='entropy', random_state=42)"
   ]
  }
 ],
 "metadata": {
  "kernelspec": {
   "display_name": "Python 3 (ipykernel)",
   "language": "python",
   "name": "python3"
  },
  "language_info": {
   "codemirror_mode": {
    "name": "ipython",
    "version": 3
   },
   "file_extension": ".py",
   "mimetype": "text/x-python",
   "name": "python",
   "nbconvert_exporter": "python",
   "pygments_lexer": "ipython3",
   "version": "3.9.12"
  }
 },
 "nbformat": 4,
 "nbformat_minor": 5
}
